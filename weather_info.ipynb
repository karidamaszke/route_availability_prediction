{
  "cells": [
    {
      "cell_type": "markdown",
      "source": [
        "## Download data"
      ],
      "metadata": {
        "id": "l8ggUcxas6pK"
      }
    },
    {
      "cell_type": "code",
      "execution_count": null,
      "metadata": {
        "id": "6E2-OQPRv6eJ"
      },
      "outputs": [],
      "source": [
        "!gdown 1cGmu0zdmqO9_WvtBNrpj3eky4kDXMZhf\n",
        "!gdown 1RO4u2Y-Tmuk1VisYQdA9cTg1bPEGr3WL\n",
        "!gdown 18WGjyzQPv3Py8OKHzZfzEp19GxEETKl_\n",
        "!gdown 1bt_2ZyE_EqY_N3SJqKP_2vdslfMJQlpP\n",
        "!gdown 1Pp7k9YiSPpiNjPA5LFJ-bKjkImW1n6ZY\n",
        "!gdown 1t1RCUIdUTSCFWBc-fmVajo14HB7wdMdV\n",
        "!gdown 1RO4u2Y-Tmuk1VisYQdA9cTg1bPEGr3WL"
      ]
    },
    {
      "cell_type": "code",
      "source": [
        "!mkdir data\n",
        "!mkdir data/unpacked"
      ],
      "metadata": {
        "id": "MWQlu0buwjHX"
      },
      "execution_count": null,
      "outputs": []
    },
    {
      "cell_type": "markdown",
      "source": [
        "Unzip the data"
      ],
      "metadata": {
        "id": "R7mjN3FYujgT"
      }
    },
    {
      "cell_type": "code",
      "source": [
        "!unzip VIL_merc_2020_01-03.zip -d data/unpacked/20_01_03/\n",
        "!unzip VIL_merc_2020_04-06.zip -d data/unpacked/20_04_06/\n",
        "!unzip VIL_merc_2020_07-12.zip -d data/unpacked/20_07_12/\n",
        "!unzip VIL_merc_2021_07-12.zip -d data/unpacked/21_07_12/\n",
        "!unzip VIL_merc_2021_01-06.zip -d data/unpacked/21_01_06/\n",
        "\n",
        "!unzip statuses.zip -d data/unpacked/"
      ],
      "metadata": {
        "id": "ptbc7Rjmuh5o"
      },
      "execution_count": null,
      "outputs": []
    },
    {
      "cell_type": "code",
      "source": [
        "#!cp -r data/unpacked/ drive/MyDrive/aigames_data"
      ],
      "metadata": {
        "id": "-nvW1CyFvakQ"
      },
      "execution_count": null,
      "outputs": []
    },
    {
      "cell_type": "markdown",
      "source": [
        "Mount drive"
      ],
      "metadata": {
        "id": "RMcX-R26zn1h"
      }
    },
    {
      "cell_type": "code",
      "source": [
        "#from google.colab import drive\n",
        "#drive.mount('/content/drive')"
      ],
      "metadata": {
        "id": "2mhxbA6pznIv"
      },
      "execution_count": null,
      "outputs": []
    },
    {
      "cell_type": "markdown",
      "source": [
        "## Extract data"
      ],
      "metadata": {
        "id": "nneRmv6Dt4_0"
      }
    },
    {
      "cell_type": "code",
      "source": [
        "!mkdir drive/MyDrive/aigames_data/merged"
      ],
      "metadata": {
        "id": "F9rlYWqEmUlP"
      },
      "execution_count": null,
      "outputs": []
    },
    {
      "cell_type": "code",
      "source": [
        "!cp drive/MyDrive/aigames_data/unpacked/20_01_03/VIL_merc/* drive/MyDrive/aigames_data/merged"
      ],
      "metadata": {
        "id": "3r0MEegiy4HB"
      },
      "execution_count": null,
      "outputs": []
    },
    {
      "cell_type": "code",
      "source": [
        "!cp drive/MyDrive/aigames_data/unpacked/20_04_06/VIL_merc/* drive/MyDrive/aigames_data/merged"
      ],
      "metadata": {
        "id": "KUd5UjBe0HRd"
      },
      "execution_count": null,
      "outputs": []
    },
    {
      "cell_type": "code",
      "source": [
        "!cp drive/MyDrive/aigames_data/unpacked/20_07_12/VIL_merc/* drive/MyDrive/aigames_data/merged\n",
        "!cp drive/MyDrive/aigames_data/unpacked/21_01_06/VIL_merc/* drive/MyDrive/aigames_data/merged\n",
        "!cp drive/MyDrive/aigames_data/unpacked/21_07_12/VIL_merc/* drive/MyDrive/aigames_data/merged"
      ],
      "metadata": {
        "id": "VVdwOr6U0MAD"
      },
      "execution_count": null,
      "outputs": []
    },
    {
      "cell_type": "code",
      "source": [
        "!ls drive/MyDrive/aigames_data/merged/ | wc"
      ],
      "metadata": {
        "id": "wQoNBqba0Yrb"
      },
      "execution_count": null,
      "outputs": []
    },
    {
      "cell_type": "code",
      "source": [],
      "metadata": {
        "id": "mchceJr6XsXU"
      },
      "execution_count": null,
      "outputs": []
    },
    {
      "cell_type": "markdown",
      "source": [
        "Some algorithms for waypoints (didn't use them after all)"
      ],
      "metadata": {
        "id": "Q0RlDrikl75A"
      }
    },
    {
      "cell_type": "code",
      "source": [
        "import math\n",
        "from typing import List, Tuple\n",
        "\n",
        "import numpy as np\n",
        "\n",
        "class WaypointsExtender:\n",
        "  def __init__(self, k: float = 1.0):\n",
        "    \"\"\"\n",
        "    Args:\n",
        "      k (int, optional): tells how many steps per matrix pixel\n",
        "    \"\"\"\n",
        "    BOUNDARIES = [(21.9430, -67.5), (55.7765, -135)]\n",
        "    M_WIDTH = abs(BOUNDARIES[0][1] - BOUNDARIES[1][1])\n",
        "    M_HEIGHT = abs(BOUNDARIES[0][0] - BOUNDARIES[1][0])\n",
        "    P_WIDTH = 5120\n",
        "    P_HEIGHT = 2566\n",
        "    WIDTH_STEP = M_WIDTH / P_WIDTH\n",
        "    HEIGHT_STEP = M_HEIGHT / P_HEIGHT\n",
        "    self.step = (WIDTH_STEP + HEIGHT_STEP) / 2 / k\n",
        "\n",
        "  def _create_between(self,\n",
        "                      p1: Tuple[float, float], p2: Tuple[float, float],\n",
        "                      verbose: bool = False) -> List[Tuple[float, float]]:\n",
        "    dist = math.sqrt(abs(p2[0] - p1[0])**2 + abs(p2[1] - p1[1])**2)\n",
        "    if dist < self.step:\n",
        "      return [p1, p2]\n",
        "    n = math.ceil(dist / self.step)\n",
        "    \n",
        "    if verbose:\n",
        "      print(f\"dist={dist}, n={n}\")\n",
        "    x_space = np.linspace(start = p1[0], stop = p2[0], num = n)\n",
        "    y_space = np.linspace(start = p1[1], stop = p2[1], num = n)\n",
        "    \n",
        "    return [t for t in zip(x_space, y_space)]\n",
        "\n",
        "  def __call__(self, points: List[Tuple[float, float]], verbose: bool = False) -> List[Tuple[float, float]]:\n",
        "    new_points = []\n",
        "    for idx in range(len(points) - 1):\n",
        "      i, j = idx, idx + 1\n",
        "      between = self._create_between(points[i], points[j], verbose)\n",
        "      if i != 0:\n",
        "        new_points.extend(between[1:])\n",
        "      else:\n",
        "        new_points.extend(between)\n",
        "    return new_points\n",
        "\n",
        "    "
      ],
      "metadata": {
        "id": "YfFtT6Lg0rrd"
      },
      "execution_count": null,
      "outputs": []
    },
    {
      "cell_type": "code",
      "source": [
        "points = [(1, 5), (3, 12), (6, 19)]\n",
        "l = WaypointsExtender(0.1)(points, True)\n",
        "print(f\"{l}\")"
      ],
      "metadata": {
        "id": "4LJzotJ4Y_Ga"
      },
      "execution_count": null,
      "outputs": []
    },
    {
      "cell_type": "markdown",
      "source": [
        "Some other experiments\n"
      ],
      "metadata": {
        "id": "JmBLWkAJmJaJ"
      }
    },
    {
      "cell_type": "code",
      "source": [
        "import pandas as pd\n",
        "fields = ['timestamp']\n",
        "\n",
        "train_df = pd.read_csv(f\"drive/MyDrive/aigames_data/train_observations.csv\", skipinitialspace=True, usecols=fields)\n",
        "test_df = pd.read_csv(f\"drive/MyDrive/aigames_data/test_observations.csv\", skipinitialspace=True, usecols=fields)\n",
        "print(len(test_df))"
      ],
      "metadata": {
        "id": "hHXRfAbiesm2"
      },
      "execution_count": null,
      "outputs": []
    },
    {
      "cell_type": "code",
      "source": [
        "train_times = list(x[0] for x in train_df.values)\n",
        "test_times = list(x[0] for x in test_df.values)"
      ],
      "metadata": {
        "id": "6JhaOA68miLT"
      },
      "execution_count": null,
      "outputs": []
    },
    {
      "cell_type": "code",
      "source": [
        "print(test_times[:10])"
      ],
      "metadata": {
        "id": "fUFW58FgokJL"
      },
      "execution_count": null,
      "outputs": []
    },
    {
      "cell_type": "code",
      "source": [
        "def remove_sec(l):\n",
        "  ret = []\n",
        "  for s in l:\n",
        "    ret.append(\" \".join(s.split(' ')[:1]))\n",
        "  return ret"
      ],
      "metadata": {
        "id": "BBj2Uqe9mkzg"
      },
      "execution_count": null,
      "outputs": []
    },
    {
      "cell_type": "code",
      "source": [
        "train_times_nosec = remove_sec(train_times)\n",
        "test_times_nosec = remove_sec(test_times)"
      ],
      "metadata": {
        "id": "RdoBH0pqnagb"
      },
      "execution_count": null,
      "outputs": []
    },
    {
      "cell_type": "code",
      "source": [
        "print(test_times_nosec[:10])"
      ],
      "metadata": {
        "id": "eQ2GeOE3ooxv"
      },
      "execution_count": null,
      "outputs": []
    },
    {
      "cell_type": "code",
      "source": [
        "isin, notin = 0, 0\n",
        "s = set(train_times_nosec)\n",
        "for x in test_times_nosec:\n",
        "  if x in s:\n",
        "    isin += 1\n",
        "  else:\n",
        "    notin += 1\n",
        "print(f\"isin={isin}, notin={notin}\")"
      ],
      "metadata": {
        "id": "lRuW_LCznxIG"
      },
      "execution_count": null,
      "outputs": []
    },
    {
      "cell_type": "code",
      "source": [
        "print(max(test_times))"
      ],
      "metadata": {
        "id": "4nOO2gZKn9hr"
      },
      "execution_count": null,
      "outputs": []
    },
    {
      "cell_type": "code",
      "source": [
        "fields = [\"route_id\", \"timestamp\", \"status\"]\n",
        "merged_df = pd.read_csv(f\"drive/MyDrive/aigames_data/train_obs_avail_merged.csv\", skipinitialspace=True, usecols=fields)"
      ],
      "metadata": {
        "id": "SlyDR5ffoxVU"
      },
      "execution_count": null,
      "outputs": []
    },
    {
      "cell_type": "code",
      "source": [
        "routes = merged_df.route_id.unique()\n",
        "print(routes)"
      ],
      "metadata": {
        "id": "CozQ6snjsgLy"
      },
      "execution_count": null,
      "outputs": []
    },
    {
      "cell_type": "code",
      "source": [
        "from collections import defaultdict\n",
        "import matplotlib.pyplot as plt\n",
        "\n",
        "def convert_to_year(s):\n",
        "  s = s.split()[1]\n",
        "  s = s.split(\":\")[0]\n",
        "  return int(s)\n",
        "\n",
        "route_cnt = {}\n",
        "for route in routes:\n",
        "  df = merged_df[merged_df.route_id == route]\n",
        "  route_cnt[route] = len(df.index)\n",
        "\n",
        "plt.bar(list(route_cnt.keys()), route_cnt.values(), color='g')\n",
        "plt.show()\n",
        "# print(route_cnt)\n",
        "print(max(route_cnt, key=route_cnt.get))"
      ],
      "metadata": {
        "id": "fhkinejtskEx"
      },
      "execution_count": null,
      "outputs": []
    },
    {
      "cell_type": "code",
      "source": [
        "\n",
        "routes_sorted = sorted(route_cnt, key=route_cnt.get, reverse=True)\n",
        "print([(name, route_cnt[name]) for name in routes_sorted])"
      ],
      "metadata": {
        "id": "_Xeq_FNA9rNo"
      },
      "execution_count": null,
      "outputs": []
    },
    {
      "cell_type": "code",
      "source": [
        "# plot histogram per hour for some of the routes\n",
        "for route in routes_sorted[:10]:#[\"JEFPO1 JEFPO\"]:#routes[:5]:\n",
        "  open_ = defaultdict(int)\n",
        "  all_ = defaultdict(int)\n",
        "  df = merged_df[merged_df.route_id == route]\n",
        "  df.timestamp = df.timestamp.apply(convert_to_year)\n",
        "  df = df.drop('route_id', axis=1)\n",
        "  \n",
        "  for v in df.values:\n",
        "    hour = v[0]\n",
        "    opened = v[1]\n",
        "    all_[hour] += 1\n",
        "    if opened:\n",
        "      open_[hour] += 1\n",
        "  \n",
        "  hours = list(range(0, 24))\n",
        "  # aggreg = {h: [open_[h], all_[h]] for h in hours}\n",
        "  # print(aggreg.values())\n",
        "  for h in hours:\n",
        "    open_[h] = open_[h]\n",
        "    all_[h] = all_[h]\n",
        "  # ratio = {h: open_[h] / all_[h] for h in open_.keys()}\n",
        "  plt.title(route)\n",
        "  plt.bar(list(all_.keys()), all_.values(), color='r')\n",
        "  plt.bar(list(open_.keys()), open_.values(), color='g')\n",
        "  plt.show()"
      ],
      "metadata": {
        "id": "o1-B6PJjs4-z"
      },
      "execution_count": null,
      "outputs": []
    },
    {
      "cell_type": "markdown",
      "source": [
        "### Add weather info to the data\n"
      ],
      "metadata": {
        "id": "nNIdeuMQmQtP"
      }
    },
    {
      "cell_type": "code",
      "source": [
        "dfw_df = pd.read_csv(f\"drive/MyDrive/aigames_data/DFW_features.csv\", skipinitialspace=True)\n",
        "sea_df = pd.read_csv(f\"drive/MyDrive/aigames_data/SEA_features.csv\", skipinitialspace=True)\n",
        "iah_df = pd.read_csv(f\"drive/MyDrive/aigames_data/IAH_features.csv\", skipinitialspace=True)"
      ],
      "metadata": {
        "id": "kFaUqcLbeGyt"
      },
      "execution_count": null,
      "outputs": []
    },
    {
      "cell_type": "code",
      "source": [
        "# dfw_df['Date'] = pd.to_datetime(dfw_df['valid'], infer_datetime_format=True)\n",
        "# dfw_df['Date'].values[0]\n",
        "\n",
        "from datetime import datetime\n",
        "\n",
        "def parse_date(s):\n",
        "  return datetime.strptime(s, \"%Y-%m-%d %H:%M\")\n",
        "\n",
        "for df in [dfw_df, sea_df, iah_df]:\n",
        "\n",
        "  df['Date'] = df['valid'].apply(parse_date)\n",
        "  df['Year'] = df['Date'].apply(lambda x: x.year)\n",
        "  df['Month'] = df['Date'].apply(lambda x: x.month)\n",
        "  df['Day'] = df['Date'].apply(lambda x: x.day)\n",
        "  df['Hour'] = df['Date'].apply(lambda x: x.hour)\n",
        "  df['Minute'] = df['Date'].apply(lambda x: x.minute)\n",
        "  df['Second'] = df['Date'].apply(lambda x: x.second)\n"
      ],
      "metadata": {
        "id": "9btoxtpHjSmU"
      },
      "execution_count": null,
      "outputs": []
    },
    {
      "cell_type": "code",
      "source": [
        "sea_df.head()"
      ],
      "metadata": {
        "id": "zHaFYcQOmg94"
      },
      "execution_count": null,
      "outputs": []
    },
    {
      "cell_type": "code",
      "source": [
        "train_df_time = pd.read_csv(f\"drive/MyDrive/aigames_data/train_obs_avail_without_duplicates.csv\", skipinitialspace=True)\n",
        "routes_df = pd.read_csv(f\"drive/MyDrive/aigames_data/route_definitions_without_duplicates.csv\", skipinitialspace=True)#, usecols=[\"route_id\", \"airport\"])\n",
        "print(routes_df.columns)\n",
        "routes_df = routes_df.drop('Unnamed: 0', axis=1)\n",
        "routes_df = routes_df.drop('route_type', axis=1)\n",
        "routes_df = routes_df.drop('waypoints', axis=1)"
      ],
      "metadata": {
        "id": "RzxUvhtA0LEp"
      },
      "execution_count": null,
      "outputs": []
    },
    {
      "cell_type": "code",
      "source": [
        "print(routes_df.columns)\n",
        "train_airport = train_df_time.merge(routes_df, how='left', on=\"route_id\")\n",
        "train_airport = train_airport.drop_duplicates()"
      ],
      "metadata": {
        "id": "SeBj0zbQeZd1"
      },
      "execution_count": null,
      "outputs": []
    },
    {
      "cell_type": "code",
      "source": [
        "print(len(train_df_time))\n",
        "print(len(train_airport))"
      ],
      "metadata": {
        "id": "uh76yIX-eqPl"
      },
      "execution_count": null,
      "outputs": []
    },
    {
      "cell_type": "code",
      "source": [
        "train_airport.head()"
      ],
      "metadata": {
        "id": "1CmtTJesfRZN"
      },
      "execution_count": null,
      "outputs": []
    },
    {
      "cell_type": "code",
      "source": [
        "train_airport = train_airport[:100]"
      ],
      "metadata": {
        "id": "aOWWVBMHrMWE"
      },
      "execution_count": 50,
      "outputs": []
    },
    {
      "cell_type": "code",
      "source": [
        "train_airport.head()"
      ],
      "metadata": {
        "id": "UTS3yzdXkZQ6"
      },
      "execution_count": null,
      "outputs": []
    },
    {
      "cell_type": "code",
      "source": [
        "# match weather info to the timestamp\n",
        "keys = [\"tmpf\", \"dwpf\", \"relh\", \"drct\", \"sknt\", \"p01i\", \"alti\", \"mslp\", \"vsby\", \"skyc1\", \"skyl1\", \"feel\"]\n",
        "def add_weather_fts(row):\n",
        "  # print(row)\n",
        "  if row['airport'] == \"KIAH\":\n",
        "    frame = iah_df\n",
        "  elif row['airport'] == \"KDFW\":\n",
        "    frame = dfw_df\n",
        "  elif row['airport'] == \"KSEA\":\n",
        "    frame = sea_df\n",
        "  else:\n",
        "    raise \"wrong airport\"\n",
        "\n",
        "  dt = datetime.strptime(row['timestamp'], \"%Y-%m-%d %H:%M:%S%z\")\n",
        "  frame_ = frame[frame.Year == dt.year]\n",
        "  frame_ = frame_[frame_.Month == dt.month]\n",
        "  frame_ = frame_[frame_.Day == dt.day]\n",
        "  frame_ = frame_[frame_.Hour == dt.hour]\n",
        "  frame_ = frame_.head(1)\n",
        "  try:\n",
        "    s = pd.Series([frame_[x].values[0] for x in keys])\n",
        "  except Exception as e:\n",
        "    s = pd.Series([-1 for _ in keys])\n",
        "  return s\n",
        "\n",
        "train_airport[keys] = train_airport.apply(lambda row: add_weather_fts(row), axis=1)"
      ],
      "metadata": {
        "id": "WuDtevy5hk2B"
      },
      "execution_count": null,
      "outputs": []
    },
    {
      "cell_type": "code",
      "source": [
        "train_airport.head()"
      ],
      "metadata": {
        "id": "00L612DmnMKK"
      },
      "execution_count": null,
      "outputs": []
    },
    {
      "cell_type": "code",
      "source": [
        "train_airport.to_csv(\"drive/MyDrive/aigames_data/with_features.csv\")"
      ],
      "metadata": {
        "id": "lNtI8kqbrR17"
      },
      "execution_count": null,
      "outputs": []
    },
    {
      "cell_type": "code",
      "source": [
        "train_airport_empty = train_airport\n",
        "keys_to_keep = keys\n",
        "keys_to_keep.append('observation_id')\n",
        "# print(train_airport_empty.columns)\n",
        "todrop = [key for key in train_airport_empty.columns if key not in keys_to_keep]\n",
        "train_airport_empty = train_airport_empty.drop(todrop, axis=1)\n",
        "train_airport_empty.head()"
      ],
      "metadata": {
        "id": "tTrlIv0exu1W"
      },
      "execution_count": null,
      "outputs": []
    },
    {
      "cell_type": "code",
      "source": [
        "train_df_x = pd.read_csv(f\"drive/MyDrive/aigames_data/train_obs_avail_without_duplicates.csv\", skipinitialspace=True)\n",
        "train_new = train_df_x.merge(train_airport_empty)\n",
        "train_new.head()"
      ],
      "metadata": {
        "id": "VZz_i_M2wPL0"
      },
      "execution_count": null,
      "outputs": []
    },
    {
      "cell_type": "code",
      "source": [
        "train_new.to_csv(\"drive/MyDrive/aigames_data/train_observations_with_wind.csv\")"
      ],
      "metadata": {
        "id": "HNPv8xh6yfcM"
      },
      "execution_count": null,
      "outputs": []
    },
    {
      "cell_type": "code",
      "source": [
        "test_df_time = pd.read_csv(f\"drive/MyDrive/aigames_data/test_observations.csv\", skipinitialspace=True)\n",
        "routes_df = pd.read_csv(f\"drive/MyDrive/aigames_data/route_definitions_without_duplicates.csv\", skipinitialspace=True)#, usecols=[\"route_id\", \"airport\"])\n",
        "print(routes_df.columns)\n",
        "routes_df = routes_df.drop('Unnamed: 0', axis=1)\n",
        "routes_df = routes_df.drop('route_type', axis=1)\n",
        "routes_df = routes_df.drop('waypoints', axis=1)"
      ],
      "metadata": {
        "id": "BH5gZKXYypN9"
      },
      "execution_count": null,
      "outputs": []
    },
    {
      "cell_type": "code",
      "source": [
        "print(routes_df.columns)\n",
        "test_airports = test_df_time.merge(routes_df, how='left', on=\"route_id\")\n",
        "test_airports = test_airports.drop_duplicates()\n",
        "print(len(test_df_time))\n",
        "print(len(test_airports))"
      ],
      "metadata": {
        "id": "Vq0Aidy61bzX"
      },
      "execution_count": null,
      "outputs": []
    },
    {
      "cell_type": "code",
      "source": [
        "test_airports.head()"
      ],
      "metadata": {
        "id": "Dgy2bUl02Xeg"
      },
      "execution_count": null,
      "outputs": []
    },
    {
      "cell_type": "code",
      "source": [
        "keys = [\"tmpf\", \"dwpf\", \"relh\", \"drct\", \"sknt\", \"p01i\", \"alti\", \"mslp\", \"vsby\", \"skyc1\", \"skyl1\", \"feel\"]\n",
        "def add_weather_fts(row):\n",
        "  # print(row)\n",
        "  if row['airport'] == \"KIAH\":\n",
        "    frame = iah_df\n",
        "  elif row['airport'] == \"KDFW\":\n",
        "    frame = dfw_df\n",
        "  elif row['airport'] == \"KSEA\":\n",
        "    frame = sea_df\n",
        "  else:\n",
        "    raise \"wrong airport\"\n",
        "\n",
        "  # print(frame.head())\n",
        "\n",
        "  dt = datetime.strptime(row['timestamp'], \"%Y-%m-%d %H:%M:%S%z\")\n",
        "  frame_ = frame[frame.Year == dt.year]\n",
        "  frame_ = frame_[frame_.Month == dt.month]\n",
        "  frame_ = frame_[frame_.Day == dt.day]\n",
        "  frame_ = frame_[frame_.Hour == dt.hour]\n",
        "  frame_ = frame_.head(1)\n",
        "  try:\n",
        "    s = pd.Series([frame_[x].values[0] for x in keys])\n",
        "  except Exception as e:\n",
        "    s = pd.Series([-1 for _ in keys])\n",
        "  return s\n",
        "\n",
        "test_airports[keys] = test_airports.apply(lambda row: add_weather_fts(row), axis=1)"
      ],
      "metadata": {
        "id": "PcpiYuZt2D0R"
      },
      "execution_count": null,
      "outputs": []
    },
    {
      "cell_type": "code",
      "source": [
        "test_airports = test_airports.drop(\"airport\", axis=1)\n",
        "test_airports.to_csv(\"drive/MyDrive/aigames_data/test_observations_with_wind.csv\")"
      ],
      "metadata": {
        "id": "byfR8qYv2N80"
      },
      "execution_count": null,
      "outputs": []
    },
    {
      "cell_type": "code",
      "source": [
        "train_wind = pd.read_csv(\"drive/MyDrive/aigames_data/train_observations_with_wind.csv\")\n",
        "test_wind = pd.read_csv(\"drive/MyDrive/aigames_data/test_observations_with_wind.csv\")"
      ],
      "metadata": {
        "id": "b79tyups3ale"
      },
      "execution_count": null,
      "outputs": []
    },
    {
      "cell_type": "code",
      "source": [
        "train_wind = train_wind.replace('T', 0.0)\n",
        "train_wind = train_wind.replace('M', 0.0)\n",
        "\n",
        "test_wind = test_wind.replace('T', 0.0)\n",
        "test_wind = test_wind.replace('M', 0.0)"
      ],
      "metadata": {
        "id": "J8NplWaY8iOV"
      },
      "execution_count": null,
      "outputs": []
    },
    {
      "cell_type": "code",
      "source": [
        "train_wind = train_wind[train_wind.tmpf != -1]"
      ],
      "metadata": {
        "id": "iv8DBLYt8q8t"
      },
      "execution_count": null,
      "outputs": []
    },
    {
      "cell_type": "code",
      "source": [
        "print(len(train_wind), len(test_wind))"
      ],
      "metadata": {
        "id": "lL8BpEYo9Fgi"
      },
      "execution_count": null,
      "outputs": []
    },
    {
      "cell_type": "code",
      "source": [
        "train_wind.to_csv(\"drive/MyDrive/aigames_data/train_wind_clean.csv\")\n",
        "test_wind.to_csv(\"drive/MyDrive/aigames_data/test_wind_clean.csv\")"
      ],
      "metadata": {
        "id": "e1IlhHjq86WW"
      },
      "execution_count": null,
      "outputs": []
    },
    {
      "cell_type": "markdown",
      "source": [
        "Experiments with observation_id"
      ],
      "metadata": {
        "id": "42CBblFOmvkP"
      }
    },
    {
      "cell_type": "code",
      "source": [
        "import math\n",
        "from typing import List, Tuple\n",
        "\n",
        "import numpy as np\n",
        "import pandas as pd"
      ],
      "metadata": {
        "id": "Bvy4X2MjVCzp"
      },
      "execution_count": 2,
      "outputs": []
    },
    {
      "cell_type": "code",
      "source": [
        "train_wind = pd.read_csv(\"drive/MyDrive/aigames_data/train_wind_clean.csv\")\n",
        "test_wind = pd.read_csv(\"drive/MyDrive/aigames_data/test_wind_clean.csv\")"
      ],
      "metadata": {
        "id": "Fo5gLMmA9L8H"
      },
      "execution_count": null,
      "outputs": []
    },
    {
      "cell_type": "code",
      "source": [
        "def drop_unnameds(df):\n",
        "  unnameds = [x for x in df.columns if \"Unnamed\" in x]\n",
        "  df = df.drop(unnameds, axis=1)\n",
        "  return df\n",
        "train_wind = drop_unnameds(train_wind)\n",
        "test_wind = drop_unnameds(test_wind)"
      ],
      "metadata": {
        "id": "ZUnF2WA7_-2r"
      },
      "execution_count": null,
      "outputs": []
    },
    {
      "cell_type": "code",
      "source": [
        "routes_df = pd.read_csv(\"drive/MyDrive/aigames_data/route_definitions_with_directions.csv\")\n",
        "routes_df = drop_unnameds(routes_df)"
      ],
      "metadata": {
        "id": "8CBfFOnNAcKD"
      },
      "execution_count": null,
      "outputs": []
    },
    {
      "cell_type": "code",
      "source": [
        "routes_df.head()"
      ],
      "metadata": {
        "id": "-IYJLc1UCgMZ"
      },
      "execution_count": null,
      "outputs": []
    },
    {
      "cell_type": "code",
      "source": [
        "tmp1 = test_wind[test_wind.route_id == \"DAS\"]\n",
        "tmp2 = test_wind[test_wind.route_id == \"TTT\"]\n",
        "print(len(tmp1), len(tmp2))"
      ],
      "metadata": {
        "id": "Vj2uAUt5CgeO"
      },
      "execution_count": null,
      "outputs": []
    },
    {
      "cell_type": "code",
      "source": [
        "from collections import defaultdict\n",
        "x = defaultdict(int)\n",
        "for index, row in routes_df.iterrows():\n",
        "  name = row['route_id']\n",
        "  x[name] += 1\n",
        "\n",
        "cnt = 0\n",
        "for k, v in x.items():\n",
        "  if v > 1:\n",
        "    print(k)\n",
        "print(cnt)"
      ],
      "metadata": {
        "id": "FoyG1i2hEvx3"
      },
      "execution_count": null,
      "outputs": []
    },
    {
      "cell_type": "code",
      "source": [
        "routes_df = routes_df.drop([\"waypoints\"], axis=1)\n",
        "routes_df.head()"
      ],
      "metadata": {
        "id": "-Koh6dykHTlZ"
      },
      "execution_count": null,
      "outputs": []
    },
    {
      "cell_type": "code",
      "source": [
        "tmp = routes_df.drop(routes_df[(routes_df['route_id'] == \"TTT\") & (routes_df['route_type'] == \"ARRIVAL\")].index)\n",
        "tmp = tmp.drop(routes_df[(routes_df['route_id'] == \"DAS\") & (routes_df['route_type'] == \"ARRIVAL\")].index)\n",
        "print(len(routes_df), len(tmp))\n",
        "tmp.head()"
      ],
      "metadata": {
        "id": "3W0d8TsrZuBL"
      },
      "execution_count": null,
      "outputs": []
    },
    {
      "cell_type": "code",
      "source": [
        "# train_wind = train_wind[train_wind.route_id != \"DAS\"]\n",
        "# train_wind = train_wind[train_wind.route_id != \"TTT\"]"
      ],
      "metadata": {
        "id": "BPOW3ePUGkGt"
      },
      "execution_count": null,
      "outputs": []
    },
    {
      "cell_type": "code",
      "source": [
        "train_joined = train_wind.merge(routes_df)\n",
        "train_joined.head()\n",
        "test_joined = test_wind.merge(routes_df)\n",
        "test_joined.head()"
      ],
      "metadata": {
        "id": "0CGmwQY7Hgu1"
      },
      "execution_count": null,
      "outputs": []
    },
    {
      "cell_type": "code",
      "source": [
        "def calc_angle_diff(row):\n",
        "  a = row['direction']\n",
        "  b = row['drct']\n",
        "  d = a - b\n",
        "  d = (d + 180) % 360 - 180\n",
        "  return abs(d) / 180\n",
        "\n",
        "train_joined[\"angle_diff\"] = train_joined.apply(lambda row: calc_angle_diff(row), axis=1)\n",
        "test_joined[\"angle_diff\"] = test_joined.apply(lambda row: calc_angle_diff(row), axis=1)"
      ],
      "metadata": {
        "id": "srAOPqUJRIKP"
      },
      "execution_count": null,
      "outputs": []
    },
    {
      "cell_type": "code",
      "source": [
        "train_joined.head()"
      ],
      "metadata": {
        "id": "RmmiOpKyURgY"
      },
      "execution_count": null,
      "outputs": []
    },
    {
      "cell_type": "code",
      "source": [
        "test_joined.isnull().sum()"
      ],
      "metadata": {
        "id": "FkCm9JPCUi_Y"
      },
      "execution_count": null,
      "outputs": []
    },
    {
      "cell_type": "code",
      "source": [
        "print(len(test_joined))\n",
        "print(len(test_joined.drop_duplicates('observation_id')))\n",
        "test_joined = test_joined.drop_duplicates('observation_id')"
      ],
      "metadata": {
        "id": "xcB_lrv3nf8e"
      },
      "execution_count": null,
      "outputs": []
    },
    {
      "cell_type": "code",
      "source": [
        "# train_joined.to_csv(\"drive/MyDrive/aigames_data/train_wind_clean_v4.csv\", index=False)\n",
        "test_joined.to_csv(\"drive/MyDrive/aigames_data/test_wind_clean_v4.csv\", index=False)"
      ],
      "metadata": {
        "id": "VATlI2tuB4Sn"
      },
      "execution_count": null,
      "outputs": []
    },
    {
      "cell_type": "code",
      "source": [
        "from google.colab import drive\n",
        "drive.mount('/content/drive')"
      ],
      "metadata": {
        "id": "mmFH0nC5U3az"
      },
      "execution_count": null,
      "outputs": []
    },
    {
      "cell_type": "code",
      "source": [
        "\n",
        "train_df = pd.read_csv(f\"drive/MyDrive/aigames_data/train_availability.csv\", skipinitialspace=True)"
      ],
      "metadata": {
        "id": "X4mLDeYZPo0u"
      },
      "execution_count": 37,
      "outputs": []
    },
    {
      "cell_type": "code",
      "source": [
        "train_df.head()"
      ],
      "metadata": {
        "id": "qlg9A0IONJKF"
      },
      "execution_count": null,
      "outputs": []
    },
    {
      "cell_type": "code",
      "source": [
        "id_ = train_df['observation_id'].tolist()\n",
        "status_ = train_df['status'].tolist()\n",
        "status_ = [1 if x == \"CLSD\" else 2 for x in status_]"
      ],
      "metadata": {
        "id": "TEzFTAyANKiU"
      },
      "execution_count": 44,
      "outputs": []
    },
    {
      "cell_type": "code",
      "source": [
        "id_[:10]"
      ],
      "metadata": {
        "id": "DKa_bmRlNiyA"
      },
      "execution_count": null,
      "outputs": []
    },
    {
      "cell_type": "code",
      "source": [
        "status_[:10]"
      ],
      "metadata": {
        "id": "C_2sjHldNsHa"
      },
      "execution_count": null,
      "outputs": []
    },
    {
      "cell_type": "code",
      "source": [
        "# plot status per observation id\n",
        "import matplotlib.pyplot as plt\n",
        "status_ = [\"CLSD\" if x == 1.0 else \"OPEN\" for x in status_]\n",
        "plt.plot(id_[:10000], status_[:10000], 'bo')\n",
        "\n",
        "plt.xlabel(\"observation_id\")\n",
        "plt.ylabel(\"status\")\n",
        "plt.show()"
      ],
      "metadata": {
        "colab": {
          "base_uri": "https://localhost:8080/",
          "height": 280
        },
        "id": "sphKR_dVNtHR",
        "outputId": "6fa073e3-6dcb-41cf-a000-59335edc19b3"
      },
      "execution_count": 45,
      "outputs": [
        {
          "output_type": "display_data",
          "data": {
            "text/plain": [
              "<Figure size 432x288 with 1 Axes>"
            ],
            "image/png": "[encoded data removed]"
          },
          "metadata": {
            "needs_background": "light"
          }
        }
      ]
    },
    {
      "cell_type": "code",
      "source": [
        "# a cherry on top\n",
        "train_df = pd.read_csv(f\"drive/MyDrive/aigames_data/train_availability.csv\",\n",
        "                       skipinitialspace=True)\n",
        "test_df = pd.read_csv(f\"drive/MyDrive/aigames_data/test_observations.csv\",\n",
        "                      skipinitialspace=True,\n",
        "                      usecols=['observation_id'])\n",
        "\n",
        "id = train_df['observation_id'].tolist()\n",
        "status = [1 if x == \"CLSD\" else 2 for x in train_df['status'].tolist()]\n",
        "\n",
        "from collections import defaultdict\n",
        "d = defaultdict(int)\n",
        "\n",
        "for idx, obs_id in enumerate(id):\n",
        "  d[obs_id] = status[idx]\n",
        "\n",
        "for i in range(1, max(id)):\n",
        "  if d[i] == 0:\n",
        "    d[i] = d[i - 1]\n",
        "  \n",
        "def add_stat(row):\n",
        "  obs_id = int(row['observation_id'])\n",
        "  return \"CLSD\" if d[obs_id] == 1 else \"OPEN\"\n",
        "\n",
        "test_df['status'] = test_df.apply(add_stat, axis=1)\n",
        "test_df.to_csv('result.csv', index=False)"
      ],
      "metadata": {
        "id": "7elt8403NxTC"
      },
      "execution_count": 35,
      "outputs": []
    },
    {
      "cell_type": "code",
      "source": [
        "test_df = pd.read_csv(f\"drive/MyDrive/aigames_data/test_observations.csv\", skipinitialspace=True)\n",
        "id_ = test_df['observation_id'].tolist()"
      ],
      "metadata": {
        "id": "t-U43_TbOzu4"
      },
      "execution_count": 24,
      "outputs": []
    },
    {
      "cell_type": "code",
      "source": [
        "print(cnt)"
      ],
      "metadata": {
        "id": "et1982kfPXhV"
      },
      "execution_count": null,
      "outputs": []
    },
    {
      "cell_type": "code",
      "source": [
        "def add_stat(row):\n",
        "  i = row['observation_id']\n",
        "  return \"CLSD\" if d[int(i)] == 1 else \"OPEN\"\n",
        "\n",
        "test_df['status'] = test_df.apply(add_stat, axis=1)"
      ],
      "metadata": {
        "id": "nZm-c1bQPMnk"
      },
      "execution_count": 26,
      "outputs": []
    },
    {
      "cell_type": "code",
      "source": [
        "test_df.head()"
      ],
      "metadata": {
        "id": "s85MTH5-Pe2V"
      },
      "execution_count": null,
      "outputs": []
    },
    {
      "cell_type": "code",
      "source": [
        "test_df.drop(['route_id', 'timestamp'], axis=1, inplace=True)\n",
        "test_df.head()"
      ],
      "metadata": {
        "id": "bc5Nq5gzPgd0"
      },
      "execution_count": null,
      "outputs": []
    },
    {
      "cell_type": "code",
      "source": [
        "test_df.to_csv('res_dict2.csv', index=False)"
      ],
      "metadata": {
        "id": "L-pyM4_ePxOX"
      },
      "execution_count": 29,
      "outputs": []
    },
    {
      "cell_type": "code",
      "source": [],
      "metadata": {
        "id": "kATBbKLkP6x8"
      },
      "execution_count": null,
      "outputs": []
    }
  ],
  "metadata": {
    "colab": {
      "provenance": []
    },
    "kernelspec": {
      "display_name": "Python 3",
      "name": "python3"
    },
    "language_info": {
      "name": "python"
    }
  },
  "nbformat": 4,
  "nbformat_minor": 0
}